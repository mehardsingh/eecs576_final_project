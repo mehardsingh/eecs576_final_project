{
 "cells": [
  {
   "cell_type": "code",
   "execution_count": 1,
   "metadata": {},
   "outputs": [
    {
     "name": "stderr",
     "output_type": "stream",
     "text": [
      "/Users/meharsingh/anaconda3/envs/datamining/lib/python3.9/site-packages/tqdm/auto.py:21: TqdmWarning: IProgress not found. Please update jupyter and ipywidgets. See https://ipywidgets.readthedocs.io/en/stable/user_install.html\n",
      "  from .autonotebook import tqdm as notebook_tqdm\n"
     ]
    }
   ],
   "source": [
    "import torch\n",
    "import sys\n",
    "import json\n",
    "from torch_geometric.loader import DataLoader\n",
    "from tqdm import tqdm\n",
    "import torch.nn.functional as F\n",
    "import pandas as pd\n",
    "import ast\n",
    "import os\n",
    "import matplotlib.pyplot as plt\n",
    "\n",
    "from src.dataset import ECommerceDS\n",
    "from src.metrics import compute_recall_at_k, compute_mrr\n",
    "from src.metric_handler import MetricHandler\n",
    "\n",
    "sys.path.append(\"src/\")\n",
    "from models.bert4rec import BERT4Rec"
   ]
  },
  {
   "cell_type": "code",
   "execution_count": 2,
   "metadata": {},
   "outputs": [],
   "source": [
    "product2token_fp = \"data/product2token.json\"\n",
    "weight_fp = \"results/bert_baseline/best_model.pth\"\n",
    "device = \"mps\"\n",
    "test_ds_fp = \"data/splits/test.jsonl\"\n",
    "output_dir = 'results/bert_baseline/test_results'\n",
    "N = 10 # num bins\n",
    "\n",
    "os.makedirs(output_dir, exist_ok=True)"
   ]
  },
  {
   "cell_type": "code",
   "execution_count": 3,
   "metadata": {},
   "outputs": [],
   "source": [
    "with open(product2token_fp, mode=\"r\") as f:\n",
    "    product2token = json.load(f)"
   ]
  },
  {
   "cell_type": "code",
   "execution_count": 4,
   "metadata": {},
   "outputs": [
    {
     "name": "stdout",
     "output_type": "stream",
     "text": [
      "Loaded model weights\n"
     ]
    },
    {
     "name": "stderr",
     "output_type": "stream",
     "text": [
      "/var/folders/1n/tpv7t5v15pd7j42g_46lx79w0000gn/T/ipykernel_5608/3856085669.py:8: FutureWarning: You are using `torch.load` with `weights_only=False` (the current default value), which uses the default pickle module implicitly. It is possible to construct malicious pickle data which will execute arbitrary code during unpickling (See https://github.com/pytorch/pytorch/blob/main/SECURITY.md#untrusted-models for more details). In a future release, the default value for `weights_only` will be flipped to `True`. This limits the functions that could be executed during unpickling. Arbitrary objects will no longer be allowed to be loaded via this mode unless they are explicitly allowlisted by the user via `torch.serialization.add_safe_globals`. We recommend you start setting `weights_only=True` for any use case where you don't have full control of the loaded file. Please open an issue on GitHub for any issues related to this experimental feature.\n",
      "  model.load_state_dict(torch.load(weight_fp))\n"
     ]
    }
   ],
   "source": [
    "model = BERT4Rec(\n",
    "    vocab_size=len(product2token),\n",
    "    hidden=128,\n",
    "    n_layers=4,\n",
    "    attn_heads=4,\n",
    "    pe_type=\"lpe\"\n",
    ")\n",
    "model.load_state_dict(torch.load(weight_fp))\n",
    "model.to(device)\n",
    "model.eval()\n",
    "print(\"Loaded model weights\")"
   ]
  },
  {
   "cell_type": "code",
   "execution_count": 5,
   "metadata": {},
   "outputs": [],
   "source": [
    "test_ds = ECommerceDS(test_ds_fp, max_len=50, product2token=product2token, mask=\"last\")\n",
    "test_dl = DataLoader(test_ds, batch_size=256, shuffle=False)"
   ]
  },
  {
   "cell_type": "code",
   "execution_count": 6,
   "metadata": {},
   "outputs": [
    {
     "name": "stdout",
     "output_type": "stream",
     "text": [
      "tensor([0, 0, 0, 0, 0, 0, 0, 0, 0, 0, 0, 0, 0, 0, 0, 0, 0, 0, 0, 0, 0, 0, 0, 0,\n",
      "        0, 0, 0, 0, 0, 0, 0, 0, 0, 0, 0, 0, 0, 0, 0, 0, 0, 0, 2, 2, 3, 2, 4, 5,\n",
      "        5, 6])\n",
      "tensor([ 0.,  0.,  0.,  0.,  0.,  0.,  0.,  0.,  0.,  0.,  0.,  0.,  0.,  0.,\n",
      "         0.,  0.,  0.,  0.,  0.,  0.,  0.,  0.,  0.,  0.,  0.,  0.,  0.,  0.,\n",
      "         0.,  0.,  0.,  0.,  0.,  0.,  0.,  0.,  0.,  0.,  0.,  0.,  0.,  0.,\n",
      "        31., 15., 15., 13.,  8.,  4.,  2.,  0.])\n",
      "tensor([31., 15., 15., 13.,  8.,  4.,  2.,  0.])\n",
      "tensor([16., -0.,  2.,  5.,  4.,  2.,  2.])\n",
      "tensor(28.6190)\n"
     ]
    }
   ],
   "source": [
    "print(test_ds[0][\"products\"])\n",
    "print(test_ds[0][\"alibi\"][-1])\n",
    "print(test_ds[0][\"alibi\"][-1][test_ds[0][\"attention_mask\"]==1])\n",
    "print(-torch.diff(test_ds[0][\"alibi\"][-1][test_ds[0][\"attention_mask\"]==1]))\n",
    "print(torch.var(-torch.diff(test_ds[0][\"alibi\"][-1][test_ds[0][\"attention_mask\"]==1])))\n",
    "# print((-torch.diff(test_ds[0][\"alibi\"][-1])))"
   ]
  },
  {
   "cell_type": "code",
   "execution_count": 7,
   "metadata": {},
   "outputs": [
    {
     "name": "stderr",
     "output_type": "stream",
     "text": [
      "  0%|          | 0/700 [00:00<?, ?it/s]/var/folders/1n/tpv7t5v15pd7j42g_46lx79w0000gn/T/ipykernel_5608/2576013158.py:22: UserWarning: MPS: nonzero op is supported natively starting from macOS 14.0. Falling back on CPU. This may have performance implications. (Triggered internally at /Users/runner/work/_temp/anaconda/conda-bld/pytorch_1728928937407/work/aten/src/ATen/native/mps/operations/Indexing.mm:361.)\n",
      "  logits_masked_test = logits_flat_test[valid_indices_test] # B x V\n",
      "100%|██████████| 700/700 [07:11<00:00,  1.62it/s]\n"
     ]
    }
   ],
   "source": [
    "all_logits = list()\n",
    "all_labels = list()\n",
    "all_time_vars = list()\n",
    "all_time_avgs = list()\n",
    "\n",
    "with torch.no_grad():  # Disable gradient computation for evaluation\n",
    "    for test_batch in tqdm(test_dl):\n",
    "        x_test = test_batch[\"masked_products\"].to(device)\n",
    "        labels_test = test_batch[\"products\"].to(device)\n",
    "        cloze_mask_test = test_batch[\"cloze_mask\"].to(device)\n",
    "        alibi = test_batch[\"alibi\"].to(device)\n",
    "        attention_mask = test_batch[\"attention_mask\"].to(device)\n",
    "\n",
    "        logits_test = model(x_test)\n",
    "\n",
    "        logits_flat_test = logits_test.view(-1, logits_test.shape[-1])\n",
    "        labels_flat_test = labels_test.view(-1)\n",
    "        cloze_mask_flat_test = cloze_mask_test.view(-1)\n",
    "\n",
    "        # Select only the masked positions\n",
    "        valid_indices_test = cloze_mask_flat_test == 1\n",
    "        logits_masked_test = logits_flat_test[valid_indices_test] # B x V\n",
    "        labels_masked_test = labels_flat_test[valid_indices_test] # B\n",
    "\n",
    "        all_logits.append(logits_masked_test)\n",
    "        all_labels.append(labels_masked_test)\n",
    "        time_vars = list()\n",
    "        time_avgs = list()\n",
    "        for i in range(labels_masked_test.shape[0]):\n",
    "            time_var = torch.var(-torch.diff(alibi[i][-1][attention_mask[i]==1]))\n",
    "            time_avg = torch.mean(-torch.diff(alibi[i][-1][attention_mask[i]==1]))\n",
    "            time_vars.append(time_var)\n",
    "            time_avgs.append(time_avg)\n",
    "        time_vars = torch.tensor(time_vars)\n",
    "        all_time_vars.append(time_vars)\n",
    "        all_time_avgs.append(time_avgs)"
   ]
  },
  {
   "cell_type": "code",
   "execution_count": 8,
   "metadata": {},
   "outputs": [],
   "source": [
    "# results_dict = {\n",
    "#     \"idx\": list(),\n",
    "#     \"time_var\": list(),\n",
    "#     \"label\": list(),\n",
    "#     \"top_20\": list(),\n",
    "# }\n",
    "\n",
    "# counter = 0\n",
    "# for i in tqdm(range(len(all_logits))):\n",
    "#     logits = all_logits[i]\n",
    "#     labels = all_labels[i]\n",
    "#     time_vars = all_time_vars[i]\n",
    "\n",
    "#     for j in range(len(logits)):\n",
    "#         results_dict[\"idx\"].append(counter)\n",
    "#         results_dict[\"time_var\"].append(time_vars[j].item())\n",
    "#         results_dict[\"label\"].append(labels[j].item())\n",
    "#         results_dict[\"top_20\"].append(torch.topk(logits, 20)[1].tolist())\n",
    "\n",
    "#         counter += 1"
   ]
  },
  {
   "cell_type": "code",
   "execution_count": 8,
   "metadata": {},
   "outputs": [
    {
     "name": "stderr",
     "output_type": "stream",
     "text": [
      "100%|██████████| 700/700 [01:24<00:00,  8.25it/s]\n"
     ]
    }
   ],
   "source": [
    "# Pre-allocate the lists for the results\n",
    "idx_list = []\n",
    "time_var_list = []\n",
    "time_avg_list = []\n",
    "label_list = []\n",
    "top_20_list = []\n",
    "\n",
    "counter = 0\n",
    "\n",
    "# Vectorized processing: compute top-20 indices once per batch\n",
    "for i in tqdm(range(len(all_logits))):\n",
    "    logits = all_logits[i]\n",
    "    labels = all_labels[i]\n",
    "    time_vars = all_time_vars[i]\n",
    "    time_avgs = all_time_avgs[i]\n",
    "\n",
    "    # Compute top 20 indices for the whole logits tensor at once\n",
    "    top_20_indices = torch.topk(logits, 20, dim=-1)[1]\n",
    "\n",
    "    # Add all elements to the lists\n",
    "    batch_size = len(logits)\n",
    "    idx_list.extend([counter + k for k in range(batch_size)])\n",
    "    time_var_list.extend([time_vars[k].item() for k in range(batch_size)])\n",
    "    time_avg_list.extend([time_avgs[k].item() for k in range(batch_size)])\n",
    "    label_list.extend([labels[k].item() for k in range(batch_size)])\n",
    "    top_20_list.extend(top_20_indices.tolist())\n",
    "\n",
    "    # Update counter\n",
    "    counter += batch_size\n",
    "\n",
    "# After the loop, assign the results to the dictionary\n",
    "results_dict = {\n",
    "    \"idx\": idx_list,\n",
    "    \"time_var\": time_var_list,\n",
    "    \"time_avg\": time_avg_list,\n",
    "    \"label\": label_list,\n",
    "    \"top_20\": top_20_list\n",
    "}"
   ]
  },
  {
   "cell_type": "code",
   "execution_count": 9,
   "metadata": {},
   "outputs": [],
   "source": [
    "df = pd.DataFrame(results_dict)\n",
    "df.to_csv(os.path.join(output_dir, \"test_output.csv\"), index=False)"
   ]
  },
  {
   "cell_type": "code",
   "execution_count": 10,
   "metadata": {},
   "outputs": [],
   "source": [
    "df = pd.read_csv(os.path.join(output_dir, \"test_output.csv\"))\n",
    "df['top_20'] = df['top_20'].apply(ast.literal_eval)"
   ]
  },
  {
   "cell_type": "code",
   "execution_count": 12,
   "metadata": {},
   "outputs": [
    {
     "data": {
      "text/html": [
       "<div>\n",
       "<style scoped>\n",
       "    .dataframe tbody tr th:only-of-type {\n",
       "        vertical-align: middle;\n",
       "    }\n",
       "\n",
       "    .dataframe tbody tr th {\n",
       "        vertical-align: top;\n",
       "    }\n",
       "\n",
       "    .dataframe thead th {\n",
       "        text-align: right;\n",
       "    }\n",
       "</style>\n",
       "<table border=\"1\" class=\"dataframe\">\n",
       "  <thead>\n",
       "    <tr style=\"text-align: right;\">\n",
       "      <th></th>\n",
       "      <th>idx</th>\n",
       "      <th>time_var</th>\n",
       "      <th>time_avg</th>\n",
       "      <th>label</th>\n",
       "      <th>top_20</th>\n",
       "    </tr>\n",
       "  </thead>\n",
       "  <tbody>\n",
       "    <tr>\n",
       "      <th>0</th>\n",
       "      <td>0</td>\n",
       "      <td>28.619045</td>\n",
       "      <td>4.428572</td>\n",
       "      <td>6</td>\n",
       "      <td>[5, 2, 4, 3, 124, 1886, 9, 10, 80, 13, 139, 63...</td>\n",
       "    </tr>\n",
       "    <tr>\n",
       "      <th>1</th>\n",
       "      <td>1</td>\n",
       "      <td>9.982143</td>\n",
       "      <td>1.625000</td>\n",
       "      <td>11</td>\n",
       "      <td>[10, 9, 8, 7, 81, 46, 139, 180, 158, 386, 479,...</td>\n",
       "    </tr>\n",
       "    <tr>\n",
       "      <th>2</th>\n",
       "      <td>2</td>\n",
       "      <td>0.285714</td>\n",
       "      <td>0.500000</td>\n",
       "      <td>12</td>\n",
       "      <td>[12, 9, 14, 13, 2, 32, 10, 124, 31, 80, 3, 180...</td>\n",
       "    </tr>\n",
       "    <tr>\n",
       "      <th>3</th>\n",
       "      <td>3</td>\n",
       "      <td>236.897461</td>\n",
       "      <td>12.692308</td>\n",
       "      <td>12</td>\n",
       "      <td>[24, 23, 16, 196, 19, 20, 18, 107, 197, 30, 22...</td>\n",
       "    </tr>\n",
       "    <tr>\n",
       "      <th>4</th>\n",
       "      <td>4</td>\n",
       "      <td>4.736394</td>\n",
       "      <td>1.183674</td>\n",
       "      <td>39</td>\n",
       "      <td>[39, 40, 23, 38, 43, 35, 3, 46, 37, 19, 51, 2,...</td>\n",
       "    </tr>\n",
       "  </tbody>\n",
       "</table>\n",
       "</div>"
      ],
      "text/plain": [
       "   idx    time_var   time_avg  label  \\\n",
       "0    0   28.619045   4.428572      6   \n",
       "1    1    9.982143   1.625000     11   \n",
       "2    2    0.285714   0.500000     12   \n",
       "3    3  236.897461  12.692308     12   \n",
       "4    4    4.736394   1.183674     39   \n",
       "\n",
       "                                              top_20  \n",
       "0  [5, 2, 4, 3, 124, 1886, 9, 10, 80, 13, 139, 63...  \n",
       "1  [10, 9, 8, 7, 81, 46, 139, 180, 158, 386, 479,...  \n",
       "2  [12, 9, 14, 13, 2, 32, 10, 124, 31, 80, 3, 180...  \n",
       "3  [24, 23, 16, 196, 19, 20, 18, 107, 197, 30, 22...  \n",
       "4  [39, 40, 23, 38, 43, 35, 3, 46, 37, 19, 51, 2,...  "
      ]
     },
     "execution_count": 12,
     "metadata": {},
     "output_type": "execute_result"
    }
   ],
   "source": [
    "df.head()"
   ]
  },
  {
   "cell_type": "code",
   "execution_count": 13,
   "metadata": {},
   "outputs": [],
   "source": [
    "# Function to compute recall at K\n",
    "def recall_at_k(row, k):\n",
    "    return int(row['label'] in row['top_20'][:k])\n",
    "\n",
    "# Function to compute MRR for a single row\n",
    "def mrr(row):\n",
    "    try:\n",
    "        # Find the rank of the correct label in top_20\n",
    "        rank = row['top_20'].index(row['label']) + 1\n",
    "        return 1 / rank\n",
    "    except ValueError:\n",
    "        return 0  # If label is not in top_20, return 0\n",
    "\n",
    "# Compute recall@1, recall@5, recall@10, recall@15, recall@20, and MRR\n",
    "df['recall@1'] = df.apply(recall_at_k, k=1, axis=1)\n",
    "df['recall@5'] = df.apply(recall_at_k, k=5, axis=1)\n",
    "df['recall@10'] = df.apply(recall_at_k, k=10, axis=1)\n",
    "df['recall@20'] = df.apply(recall_at_k, k=20, axis=1)\n",
    "df['mrr'] = df.apply(mrr, axis=1)"
   ]
  },
  {
   "cell_type": "code",
   "execution_count": 14,
   "metadata": {},
   "outputs": [
    {
     "data": {
      "text/html": [
       "<div>\n",
       "<style scoped>\n",
       "    .dataframe tbody tr th:only-of-type {\n",
       "        vertical-align: middle;\n",
       "    }\n",
       "\n",
       "    .dataframe tbody tr th {\n",
       "        vertical-align: top;\n",
       "    }\n",
       "\n",
       "    .dataframe thead th {\n",
       "        text-align: right;\n",
       "    }\n",
       "</style>\n",
       "<table border=\"1\" class=\"dataframe\">\n",
       "  <thead>\n",
       "    <tr style=\"text-align: right;\">\n",
       "      <th></th>\n",
       "      <th>idx</th>\n",
       "      <th>time_var</th>\n",
       "      <th>time_avg</th>\n",
       "      <th>label</th>\n",
       "      <th>top_20</th>\n",
       "      <th>recall@1</th>\n",
       "      <th>recall@5</th>\n",
       "      <th>recall@10</th>\n",
       "      <th>recall@20</th>\n",
       "      <th>mrr</th>\n",
       "    </tr>\n",
       "  </thead>\n",
       "  <tbody>\n",
       "    <tr>\n",
       "      <th>0</th>\n",
       "      <td>0</td>\n",
       "      <td>28.619045</td>\n",
       "      <td>4.428572</td>\n",
       "      <td>6</td>\n",
       "      <td>[5, 2, 4, 3, 124, 1886, 9, 10, 80, 13, 139, 63...</td>\n",
       "      <td>0</td>\n",
       "      <td>0</td>\n",
       "      <td>0</td>\n",
       "      <td>0</td>\n",
       "      <td>0.0</td>\n",
       "    </tr>\n",
       "    <tr>\n",
       "      <th>1</th>\n",
       "      <td>1</td>\n",
       "      <td>9.982143</td>\n",
       "      <td>1.625000</td>\n",
       "      <td>11</td>\n",
       "      <td>[10, 9, 8, 7, 81, 46, 139, 180, 158, 386, 479,...</td>\n",
       "      <td>0</td>\n",
       "      <td>0</td>\n",
       "      <td>0</td>\n",
       "      <td>0</td>\n",
       "      <td>0.0</td>\n",
       "    </tr>\n",
       "    <tr>\n",
       "      <th>2</th>\n",
       "      <td>2</td>\n",
       "      <td>0.285714</td>\n",
       "      <td>0.500000</td>\n",
       "      <td>12</td>\n",
       "      <td>[12, 9, 14, 13, 2, 32, 10, 124, 31, 80, 3, 180...</td>\n",
       "      <td>1</td>\n",
       "      <td>1</td>\n",
       "      <td>1</td>\n",
       "      <td>1</td>\n",
       "      <td>1.0</td>\n",
       "    </tr>\n",
       "    <tr>\n",
       "      <th>3</th>\n",
       "      <td>3</td>\n",
       "      <td>236.897461</td>\n",
       "      <td>12.692308</td>\n",
       "      <td>12</td>\n",
       "      <td>[24, 23, 16, 196, 19, 20, 18, 107, 197, 30, 22...</td>\n",
       "      <td>0</td>\n",
       "      <td>0</td>\n",
       "      <td>0</td>\n",
       "      <td>0</td>\n",
       "      <td>0.0</td>\n",
       "    </tr>\n",
       "    <tr>\n",
       "      <th>4</th>\n",
       "      <td>4</td>\n",
       "      <td>4.736394</td>\n",
       "      <td>1.183674</td>\n",
       "      <td>39</td>\n",
       "      <td>[39, 40, 23, 38, 43, 35, 3, 46, 37, 19, 51, 2,...</td>\n",
       "      <td>1</td>\n",
       "      <td>1</td>\n",
       "      <td>1</td>\n",
       "      <td>1</td>\n",
       "      <td>1.0</td>\n",
       "    </tr>\n",
       "  </tbody>\n",
       "</table>\n",
       "</div>"
      ],
      "text/plain": [
       "   idx    time_var   time_avg  label  \\\n",
       "0    0   28.619045   4.428572      6   \n",
       "1    1    9.982143   1.625000     11   \n",
       "2    2    0.285714   0.500000     12   \n",
       "3    3  236.897461  12.692308     12   \n",
       "4    4    4.736394   1.183674     39   \n",
       "\n",
       "                                              top_20  recall@1  recall@5  \\\n",
       "0  [5, 2, 4, 3, 124, 1886, 9, 10, 80, 13, 139, 63...         0         0   \n",
       "1  [10, 9, 8, 7, 81, 46, 139, 180, 158, 386, 479,...         0         0   \n",
       "2  [12, 9, 14, 13, 2, 32, 10, 124, 31, 80, 3, 180...         1         1   \n",
       "3  [24, 23, 16, 196, 19, 20, 18, 107, 197, 30, 22...         0         0   \n",
       "4  [39, 40, 23, 38, 43, 35, 3, 46, 37, 19, 51, 2,...         1         1   \n",
       "\n",
       "   recall@10  recall@20  mrr  \n",
       "0          0          0  0.0  \n",
       "1          0          0  0.0  \n",
       "2          1          1  1.0  \n",
       "3          0          0  0.0  \n",
       "4          1          1  1.0  "
      ]
     },
     "execution_count": 14,
     "metadata": {},
     "output_type": "execute_result"
    }
   ],
   "source": [
    "df.head()"
   ]
  },
  {
   "cell_type": "code",
   "execution_count": 15,
   "metadata": {},
   "outputs": [],
   "source": [
    "df.to_csv(os.path.join(output_dir, \"test_output.csv\"), index=False)"
   ]
  },
  {
   "cell_type": "code",
   "execution_count": 16,
   "metadata": {},
   "outputs": [],
   "source": [
    "total_results = {\n",
    "    \"test_recall@1\": df[\"recall@1\"].mean(),\n",
    "    \"test_recall@5\": df[\"recall@5\"].mean(),\n",
    "    \"test_recall@10\": df[\"recall@10\"].mean(),\n",
    "    \"test_recall@20\": df[\"recall@20\"].mean(),\n",
    "    \"test_mrr\": df[\"mrr\"].mean()\n",
    "}\n",
    "total_results = {k: [v] for k, v in total_results.items()}\n",
    "total_result_df = pd.DataFrame(total_results)\n",
    "total_result_df.to_csv(os.path.join(output_dir, \"total_results.csv\"), index=False)"
   ]
  },
  {
   "attachments": {},
   "cell_type": "markdown",
   "metadata": {},
   "source": [
    "### Performance vs. Time Delta Average (this figure is better than the one below imo)\n",
    "- time delta average = average # of days between consecutive purchases\n",
    "- I think this figure is better bc the time delta average makes more intuitive sense"
   ]
  },
  {
   "cell_type": "code",
   "execution_count": 27,
   "metadata": {},
   "outputs": [
    {
     "data": {
      "image/png": "[encoded data removed]",
      "text/plain": [
       "<Figure size 800x600 with 1 Axes>"
      ]
     },
     "metadata": {},
     "output_type": "display_data"
    }
   ],
   "source": [
    "# Assuming df is your DataFrame\n",
    "# Sort the DataFrame by 'time_var' (if not already sorted)\n",
    "df_sorted = df.sort_values(by='time_avg')\n",
    "\n",
    "# Define the number of bins (N)\n",
    "N = 20\n",
    "\n",
    "# Create quantile-based bins (equal number of samples per bin)\n",
    "bins = pd.qcut(df_sorted['time_avg'], q=N, labels=False)\n",
    "\n",
    "# Group by the bins and calculate the mean of 'recall@5' for each bin\n",
    "bin_means = df_sorted.groupby(bins)['recall@5'].mean()\n",
    "\n",
    "# Plot the means as a line plot\n",
    "plt.figure(figsize=(8, 6))\n",
    "bin_means.plot(kind='line', marker='o', linestyle='-', color='b', alpha=0.7)\n",
    "\n",
    "# Add labels and title\n",
    "plt.title(f\"Average recall@5 for {N} equal-sized time bins\")\n",
    "plt.xlabel(\"Time Delta Variation Bins (ascending variance)\")\n",
    "plt.ylabel(\"Average recall@5\")\n",
    "plt.xticks(rotation=45)\n",
    "plt.grid(True)\n",
    "\n",
    "plt.show()"
   ]
  },
  {
   "attachments": {},
   "cell_type": "markdown",
   "metadata": {},
   "source": [
    "### Performance vs. Time Delta Variation\n",
    "time delta variation = variance in # of days between consecutive purchases"
   ]
  },
  {
   "cell_type": "code",
   "execution_count": 25,
   "metadata": {},
   "outputs": [
    {
     "data": {
      "image/png": "[encoded data removed]",
      "text/plain": [
       "<Figure size 800x600 with 1 Axes>"
      ]
     },
     "metadata": {},
     "output_type": "display_data"
    }
   ],
   "source": [
    "# Assuming df is your DataFrame\n",
    "# Sort the DataFrame by 'time_var' (if not already sorted)\n",
    "df_sorted = df.sort_values(by='time_var')\n",
    "\n",
    "# Define the number of bins (N)\n",
    "N = 20\n",
    "\n",
    "# Create quantile-based bins (equal number of samples per bin)\n",
    "bins = pd.qcut(df_sorted['time_var'], q=N, labels=False)\n",
    "\n",
    "# Group by the bins and calculate the mean of 'recall@5' for each bin\n",
    "bin_means = df_sorted.groupby(bins)['recall@5'].mean()\n",
    "\n",
    "# Plot the means as a line plot\n",
    "plt.figure(figsize=(8, 6))\n",
    "bin_means.plot(kind='line', marker='o', linestyle='-', color='b', alpha=0.7)\n",
    "\n",
    "# Add labels and title\n",
    "plt.title(f\"Average recall@5 for {N} equal-sized time bins\")\n",
    "plt.xlabel(\"Time Delta Variation Bins (ascending variance)\")\n",
    "plt.ylabel(\"Average recall@5\")\n",
    "plt.xticks(rotation=45)\n",
    "plt.grid(True)\n",
    "\n",
    "plt.show()"
   ]
  },
  {
   "cell_type": "code",
   "execution_count": 10,
   "metadata": {},
   "outputs": [],
   "source": [
    "# results_dict"
   ]
  },
  {
   "cell_type": "code",
   "execution_count": 11,
   "metadata": {},
   "outputs": [],
   "source": [
    "# all_logits_tensor = torch.concat(all_logits, dim=0)\n",
    "# all_labels_tensor = torch.concat(all_labels, dim=0)\n",
    "# all_time_vars_tensor = torch.concat(all_time_vars, dim=0)\n",
    "\n",
    "# print(all_logits_tensor.shape)\n",
    "# print(all_labels_tensor.shape)\n",
    "# print(all_time_vars_tensor.shape)"
   ]
  },
  {
   "cell_type": "code",
   "execution_count": 12,
   "metadata": {},
   "outputs": [],
   "source": [
    "# metric_handler = MetricHandler(\"results/bert_baseline\")\n",
    "\n",
    "#  # Calculate validation loss and metrics\n",
    "# test_loss = F.cross_entropy(logits_masked_test, labels_masked_test)\n",
    "# batch_metrics = {\n",
    "#     \"test_loss\": test_loss.item(),\n",
    "#     \"test_recall@1\": compute_recall_at_k(logits_masked_test, labels_masked_test, k=1),\n",
    "#     \"test_recall@5\": compute_recall_at_k(logits_masked_test, labels_masked_test, k=5),\n",
    "#     \"test_recall@10\": compute_recall_at_k(logits_masked_test, labels_masked_test, k=10),\n",
    "#     \"test_recall@20\": compute_recall_at_k(logits_masked_test, labels_masked_test, k=20),\n",
    "#     \"test_mrr\": compute_mrr(logits_masked_test, labels_masked_test),\n",
    "# }\n",
    "# metric_handler.batch_update(batch_metrics)\n",
    "\n",
    "# metric_handler.all_update_save_clear(save_name=\"test_results.csv\")"
   ]
  },
  {
   "attachments": {},
   "cell_type": "markdown",
   "metadata": {},
   "source": [
    "### Next steps\n",
    "- performance vs time variation\n",
    "- by category"
   ]
  },
  {
   "cell_type": "code",
   "execution_count": 13,
   "metadata": {},
   "outputs": [],
   "source": [
    "# test_ds[0]"
   ]
  },
  {
   "cell_type": "code",
   "execution_count": null,
   "metadata": {},
   "outputs": [],
   "source": []
  }
 ],
 "metadata": {
  "kernelspec": {
   "display_name": "datamining",
   "language": "python",
   "name": "python3"
  },
  "language_info": {
   "codemirror_mode": {
    "name": "ipython",
    "version": 3
   },
   "file_extension": ".py",
   "mimetype": "text/x-python",
   "name": "python",
   "nbconvert_exporter": "python",
   "pygments_lexer": "ipython3",
   "version": "3.9.20"
  },
  "orig_nbformat": 4
 },
 "nbformat": 4,
 "nbformat_minor": 2
}
