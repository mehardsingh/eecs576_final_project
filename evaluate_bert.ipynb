{
 "cells": [
  {
   "cell_type": "code",
   "execution_count": 16,
   "metadata": {},
   "outputs": [],
   "source": [
    "import torch\n",
    "import sys\n",
    "import json\n",
    "from torch_geometric.loader import DataLoader\n",
    "from tqdm import tqdm\n",
    "import torch.nn.functional as F\n",
    "\n",
    "from src.dataset import ECommerceDS\n",
    "from src.metrics import compute_recall_at_k, compute_mrr\n",
    "from src.metric_handler import MetricHandler\n",
    "\n",
    "sys.path.append(\"src/\")\n",
    "from models.bert4rec import BERT4Rec"
   ]
  },
  {
   "cell_type": "code",
   "execution_count": 17,
   "metadata": {},
   "outputs": [],
   "source": [
    "product2token_fp = \"data/product2token.json\"\n",
    "weight_fp = \"results/bert_baseline/best_model.pth\"\n",
    "device = \"mps\"\n",
    "test_ds_fp = \"data/splits/test.jsonl\""
   ]
  },
  {
   "cell_type": "code",
   "execution_count": 18,
   "metadata": {},
   "outputs": [],
   "source": [
    "with open(product2token_fp, mode=\"r\") as f:\n",
    "    product2token = json.load(f)"
   ]
  },
  {
   "cell_type": "code",
   "execution_count": 19,
   "metadata": {},
   "outputs": [
    {
     "name": "stderr",
     "output_type": "stream",
     "text": [
      "/var/folders/1n/tpv7t5v15pd7j42g_46lx79w0000gn/T/ipykernel_59002/3856085669.py:8: FutureWarning: You are using `torch.load` with `weights_only=False` (the current default value), which uses the default pickle module implicitly. It is possible to construct malicious pickle data which will execute arbitrary code during unpickling (See https://github.com/pytorch/pytorch/blob/main/SECURITY.md#untrusted-models for more details). In a future release, the default value for `weights_only` will be flipped to `True`. This limits the functions that could be executed during unpickling. Arbitrary objects will no longer be allowed to be loaded via this mode unless they are explicitly allowlisted by the user via `torch.serialization.add_safe_globals`. We recommend you start setting `weights_only=True` for any use case where you don't have full control of the loaded file. Please open an issue on GitHub for any issues related to this experimental feature.\n",
      "  model.load_state_dict(torch.load(weight_fp))\n"
     ]
    },
    {
     "name": "stdout",
     "output_type": "stream",
     "text": [
      "Loaded model weights\n"
     ]
    }
   ],
   "source": [
    "model = BERT4Rec(\n",
    "    vocab_size=len(product2token),\n",
    "    hidden=128,\n",
    "    n_layers=4,\n",
    "    attn_heads=4,\n",
    "    pe_type=\"lpe\"\n",
    ")\n",
    "model.load_state_dict(torch.load(weight_fp))\n",
    "model.to(device)\n",
    "model.eval()\n",
    "print(\"Loaded model weights\")"
   ]
  },
  {
   "cell_type": "code",
   "execution_count": 20,
   "metadata": {},
   "outputs": [],
   "source": [
    "test_ds = ECommerceDS(test_ds_fp, max_len=50, product2token=product2token, mask=\"last\")\n",
    "test_dl = DataLoader(test_ds, batch_size=256, shuffle=False)"
   ]
  },
  {
   "cell_type": "code",
   "execution_count": 21,
   "metadata": {},
   "outputs": [
    {
     "data": {
      "text/plain": [
       "['2020-01-05 03:49:57 UTC',\n",
       " '2020-01-21 06:20:35 UTC',\n",
       " '2020-01-21 06:24:57 UTC',\n",
       " '2020-01-23 04:00:00 UTC',\n",
       " '2020-01-28 08:08:00 UTC',\n",
       " '2020-01-31 09:46:24 UTC',\n",
       " '2020-02-03 04:27:15 UTC',\n",
       " '2020-02-05 09:12:57 UTC']"
      ]
     },
     "execution_count": 21,
     "metadata": {},
     "output_type": "execute_result"
    }
   ],
   "source": [
    "test_ds[0][\"times\"]"
   ]
  },
  {
   "cell_type": "code",
   "execution_count": 22,
   "metadata": {},
   "outputs": [
    {
     "name": "stderr",
     "output_type": "stream",
     "text": [
      "  0%|          | 0/700 [00:00<?, ?it/s]\n"
     ]
    }
   ],
   "source": [
    "metric_handler = MetricHandler(\"results/bert_baseline\")\n",
    "\n",
    "all_logits = list()\n",
    "all_labels = list()\n",
    "all_times = list()\n",
    "\n",
    "with torch.no_grad():  # Disable gradient computation for evaluation\n",
    "    for test_batch in tqdm(test_dl):\n",
    "        x_val = test_batch[\"masked_products\"].to(device)\n",
    "        labels_val = test_batch[\"products\"].to(device)\n",
    "        cloze_mask_val = test_batch[\"cloze_mask\"].to(device)\n",
    "\n",
    "        logits_val = model(x_val)\n",
    "\n",
    "        logits_flat_val = logits_val.view(-1, logits_val.shape[-1])\n",
    "        labels_flat_val = labels_val.view(-1)\n",
    "        cloze_mask_flat_val = cloze_mask_val.view(-1)\n",
    "\n",
    "        # Select only the masked positions\n",
    "        valid_indices_val = cloze_mask_flat_val == 1\n",
    "        logits_masked_val = logits_flat_val[valid_indices_val]\n",
    "        labels_masked_val = labels_flat_val[valid_indices_val]\n",
    "\n",
    "        all_logits.append(logits_masked_val)\n",
    "        all_labels.append(labels_masked_val)\n",
    "        all_times.append(test_batch[\"times\"])\n",
    "\n",
    "        # Calculate validation loss and metrics\n",
    "        test_loss = F.cross_entropy(logits_masked_val, labels_masked_val)\n",
    "        batch_metrics = {\n",
    "            \"test_loss\": test_loss.item(),\n",
    "            \"test_recall@1\": compute_recall_at_k(logits_masked_val, labels_masked_val, k=1),\n",
    "            \"test_recall@5\": compute_recall_at_k(logits_masked_val, labels_masked_val, k=5),\n",
    "            \"test_recall@10\": compute_recall_at_k(logits_masked_val, labels_masked_val, k=10),\n",
    "            \"test_recall@20\": compute_recall_at_k(logits_masked_val, labels_masked_val, k=20),\n",
    "            \"test_mrr\": compute_mrr(logits_masked_val, labels_masked_val),\n",
    "        }\n",
    "        metric_handler.batch_update(batch_metrics)\n",
    "\n",
    "metric_handler.all_update_save_clear(save_name=\"test_results.csv\")"
   ]
  },
  {
   "attachments": {},
   "cell_type": "markdown",
   "metadata": {},
   "source": [
    "### Next steps\n",
    "- performance vs time variation\n",
    "- by category"
   ]
  },
  {
   "cell_type": "code",
   "execution_count": 23,
   "metadata": {},
   "outputs": [
    {
     "data": {
      "text/plain": [
       "{'graph': Data(x=[4, 1], edge_index=[2, 12], edge_weights=[12]),\n",
       " 'masked_products': tensor([0, 0, 0, 0, 0, 0, 0, 0, 0, 0, 0, 0, 0, 0, 0, 0, 0, 0, 0, 0, 0, 0, 0, 0,\n",
       "         0, 0, 0, 0, 0, 0, 0, 0, 0, 0, 0, 0, 0, 0, 0, 0, 0, 0, 2, 2, 3, 2, 4, 5,\n",
       "         5, 1]),\n",
       " 'products': tensor([0, 0, 0, 0, 0, 0, 0, 0, 0, 0, 0, 0, 0, 0, 0, 0, 0, 0, 0, 0, 0, 0, 0, 0,\n",
       "         0, 0, 0, 0, 0, 0, 0, 0, 0, 0, 0, 0, 0, 0, 0, 0, 0, 0, 2, 2, 3, 2, 4, 5,\n",
       "         5, 6]),\n",
       " 'times': ['2020-01-05 03:49:57 UTC',\n",
       "  '2020-01-21 06:20:35 UTC',\n",
       "  '2020-01-21 06:24:57 UTC',\n",
       "  '2020-01-23 04:00:00 UTC',\n",
       "  '2020-01-28 08:08:00 UTC',\n",
       "  '2020-01-31 09:46:24 UTC',\n",
       "  '2020-02-03 04:27:15 UTC',\n",
       "  '2020-02-05 09:12:57 UTC'],\n",
       " 'attention_mask': tensor([0, 0, 0, 0, 0, 0, 0, 0, 0, 0, 0, 0, 0, 0, 0, 0, 0, 0, 0, 0, 0, 0, 0, 0,\n",
       "         0, 0, 0, 0, 0, 0, 0, 0, 0, 0, 0, 0, 0, 0, 0, 0, 0, 0, 1, 1, 1, 1, 1, 1,\n",
       "         1, 1]),\n",
       " 'cloze_mask': tensor([0, 0, 0, 0, 0, 0, 0, 0, 0, 0, 0, 0, 0, 0, 0, 0, 0, 0, 0, 0, 0, 0, 0, 0,\n",
       "         0, 0, 0, 0, 0, 0, 0, 0, 0, 0, 0, 0, 0, 0, 0, 0, 0, 0, 0, 0, 0, 0, 0, 0,\n",
       "         0, 1])}"
      ]
     },
     "execution_count": 23,
     "metadata": {},
     "output_type": "execute_result"
    }
   ],
   "source": [
    "test_ds[0]"
   ]
  },
  {
   "cell_type": "code",
   "execution_count": null,
   "metadata": {},
   "outputs": [],
   "source": []
  }
 ],
 "metadata": {
  "kernelspec": {
   "display_name": "datamining",
   "language": "python",
   "name": "python3"
  },
  "language_info": {
   "codemirror_mode": {
    "name": "ipython",
    "version": 3
   },
   "file_extension": ".py",
   "mimetype": "text/x-python",
   "name": "python",
   "nbconvert_exporter": "python",
   "pygments_lexer": "ipython3",
   "version": "3.9.20"
  },
  "orig_nbformat": 4
 },
 "nbformat": 4,
 "nbformat_minor": 2
}
