{
 "cells": [
  {
   "cell_type": "code",
   "execution_count": 1,
   "metadata": {},
   "outputs": [],
   "source": [
    "import json\n",
    "from collections import Counter\n",
    "from tqdm import tqdm\n",
    "import numpy as np"
   ]
  },
  {
   "cell_type": "code",
   "execution_count": 2,
   "metadata": {},
   "outputs": [],
   "source": [
    "# Path to the JSONL file\n",
    "file_path = \"data/user_histories.jsonl\"\n",
    "\n",
    "item_counter = dict()\n",
    "category_counter = Counter()\n",
    "\n",
    "item_counter = dict()\n",
    "with open(file_path, 'r') as f:\n",
    "    for line in f:\n",
    "        data = json.loads(line)\n",
    "        products = data[\"products\"]\n",
    "        categories = data[\"categories\"]\n",
    "\n",
    "\n",
    "        for i in range(len(products)):\n",
    "            if not products[i] in item_counter:\n",
    "                item_counter[products[i]] = {\"count\": 0, \"category\": categories[i]}\n",
    "            item_counter[products[i]][\"count\"] += 1\n",
    "\n",
    "        category_counter.update(categories)\n",
    "\n",
    "item_counter = dict(item_counter)\n",
    "category_counter = dict(category_counter)"
   ]
  },
  {
   "cell_type": "code",
   "execution_count": 3,
   "metadata": {},
   "outputs": [
    {
     "name": "stdout",
     "output_type": "stream",
     "text": [
      "126611\n",
      "1244\n"
     ]
    }
   ],
   "source": [
    "print(len(item_counter))\n",
    "print(len(category_counter))"
   ]
  },
  {
   "cell_type": "code",
   "execution_count": 4,
   "metadata": {},
   "outputs": [
    {
     "data": {
      "text/plain": [
       "{2053013553056579841,\n",
       " 2053013553199186187,\n",
       " 2053013553341792533,\n",
       " 2053013553559896355,\n",
       " 2053013554415534427,\n",
       " 2053013554658804075,\n",
       " 2053013554725912943,\n",
       " 2053013555631882655,\n",
       " 2053013558920217191,\n",
       " 2053013563810775923,\n",
       " 2053013563835941749,\n",
       " 2232732079706079299,\n",
       " 2232732081585127530,\n",
       " 2232732082063278200,\n",
       " 2232732089269092627,\n",
       " 2232732091718566220,\n",
       " 2232732092297380188,\n",
       " 2232732093077520756,\n",
       " 2232732098228126185,\n",
       " 2232732098446229999,\n",
       " 2232732099754852875,\n",
       " 2232732101063475749,\n",
       " 2232732101407408685,\n",
       " 2232732103101907535,\n",
       " 2232732103831716449}"
      ]
     },
     "execution_count": 4,
     "metadata": {},
     "output_type": "execute_result"
    }
   ],
   "source": [
    "purchases_per_category = [pair[1] for pair in category_counter.items()]\n",
    "percentile = np.percentile(purchases_per_category, 98)\n",
    "filtered_category_counter = {pair[0]: pair[1] for pair in category_counter.items() if pair[1] > percentile}\n",
    "filtered_categories = set(filtered_category_counter.keys())\n",
    "\n",
    "filtered_categories"
   ]
  },
  {
   "cell_type": "code",
   "execution_count": 5,
   "metadata": {},
   "outputs": [],
   "source": [
    "category_filter_fp = \"data/user_histories_filtered.jsonl\"\n",
    "filtered_item_counter = Counter()\n",
    "\n",
    "seq_lens = list()\n",
    "\n",
    "item_counter = dict()\n",
    "with open(file_path, 'r') as inp_f:\n",
    "    with open(category_filter_fp, 'w') as out_f:\n",
    "        for line in inp_f:\n",
    "            data = json.loads(line)\n",
    "            out_data = {\"times\": list(), \"products\": list(), \"sessions\": list(), \"categories\": list(), \"user_id\": data[\"user_id\"]}\n",
    "\n",
    "            for i in range(len(data[\"times\"])):\n",
    "                curr_category = data[\"categories\"][i]\n",
    "                if curr_category in filtered_categories:\n",
    "                    out_data[\"times\"].append(data[\"times\"][i])\n",
    "                    out_data[\"products\"].append(data[\"products\"][i])\n",
    "                    out_data[\"sessions\"].append(data[\"sessions\"][i])\n",
    "                    out_data[\"categories\"].append(data[\"categories\"][i])\n",
    "\n",
    "            if len(out_data[\"times\"]) >= 5:\n",
    "                out_f.write(json.dumps(out_data) + '\\n')\n",
    "\n",
    "                filtered_item_counter.update(out_data[\"products\"])\n",
    "                seq_lens.append(len(out_data[\"times\"]))"
   ]
  },
  {
   "cell_type": "code",
   "execution_count": 6,
   "metadata": {},
   "outputs": [
    {
     "name": "stdout",
     "output_type": "stream",
     "text": [
      "24185\n"
     ]
    }
   ],
   "source": [
    "print(len(filtered_item_counter))"
   ]
  },
  {
   "cell_type": "code",
   "execution_count": 9,
   "metadata": {},
   "outputs": [
    {
     "data": {
      "image/png": "[encoded data removed]",
      "text/plain": [
       "<Figure size 640x480 with 1 Axes>"
      ]
     },
     "metadata": {},
     "output_type": "display_data"
    }
   ],
   "source": [
    "import matplotlib.pyplot as plt\n",
    "\n",
    "filtered_seq_lens = [i for i in seq_lens if i <= 100]\n",
    "\n",
    "# Plot the histogram\n",
    "plt.hist(filtered_seq_lens, bins=range(min(filtered_seq_lens), max(filtered_seq_lens) + 2), edgecolor='black', align='left')\n",
    "plt.xlabel('Integer Value')\n",
    "plt.ylabel('Frequency')\n",
    "plt.title('Distribution of Integer List')\n",
    "plt.show()"
   ]
  },
  {
   "cell_type": "code",
   "execution_count": null,
   "metadata": {},
   "outputs": [],
   "source": []
  }
 ],
 "metadata": {
  "kernelspec": {
   "display_name": "datamining",
   "language": "python",
   "name": "python3"
  },
  "language_info": {
   "codemirror_mode": {
    "name": "ipython",
    "version": 3
   },
   "file_extension": ".py",
   "mimetype": "text/x-python",
   "name": "python",
   "nbconvert_exporter": "python",
   "pygments_lexer": "ipython3",
   "version": "3.9.20"
  },
  "orig_nbformat": 4
 },
 "nbformat": 4,
 "nbformat_minor": 2
}
