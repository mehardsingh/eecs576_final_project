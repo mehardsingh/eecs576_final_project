{
 "cells": [
  {
   "cell_type": "code",
   "execution_count": 2,
   "metadata": {},
   "outputs": [],
   "source": [
    "import torch\n",
    "import sys\n",
    "import json\n",
    "from torch_geometric.loader import DataLoader\n",
    "from tqdm import tqdm\n",
    "import torch.nn.functional as F\n",
    "import pandas as pd\n",
    "import ast\n",
    "import os\n",
    "import matplotlib.pyplot as plt\n",
    "\n",
    "from src.dataset import ECommerceDS\n",
    "from src.metrics import compute_recall_at_k, compute_mrr\n",
    "from src.metric_handler import MetricHandler\n",
    "\n",
    "sys.path.append(\"src/\")\n",
    "from models.sr_gnn import SRGNN"
   ]
  },
  {
   "cell_type": "code",
   "execution_count": 3,
   "metadata": {},
   "outputs": [],
   "source": [
    "product2token_fp = \"data/product2token.json\"\n",
    "weight_fp = \"results/srgnn_baseline/best_model.pth\"\n",
    "device = \"mps\"\n",
    "test_ds_fp = \"data/splits/test.jsonl\"\n",
    "output_dir = 'results/srgnn_baseline/test_results'\n",
    "N = 10 # num bins\n",
    "\n",
    "os.makedirs(output_dir, exist_ok=True)"
   ]
  },
  {
   "cell_type": "code",
   "execution_count": 4,
   "metadata": {},
   "outputs": [],
   "source": [
    "with open(product2token_fp, mode=\"r\") as f:\n",
    "    product2token = json.load(f)"
   ]
  },
  {
   "cell_type": "code",
   "execution_count": 5,
   "metadata": {},
   "outputs": [
    {
     "name": "stderr",
     "output_type": "stream",
     "text": [
      "/var/folders/1n/tpv7t5v15pd7j42g_46lx79w0000gn/T/ipykernel_5001/2709022576.py:2: FutureWarning: You are using `torch.load` with `weights_only=False` (the current default value), which uses the default pickle module implicitly. It is possible to construct malicious pickle data which will execute arbitrary code during unpickling (See https://github.com/pytorch/pytorch/blob/main/SECURITY.md#untrusted-models for more details). In a future release, the default value for `weights_only` will be flipped to `True`. This limits the functions that could be executed during unpickling. Arbitrary objects will no longer be allowed to be loaded via this mode unless they are explicitly allowlisted by the user via `torch.serialization.add_safe_globals`. We recommend you start setting `weights_only=True` for any use case where you don't have full control of the loaded file. Please open an issue on GitHub for any issues related to this experimental feature.\n",
      "  model.load_state_dict(torch.load(weight_fp))\n"
     ]
    },
    {
     "name": "stdout",
     "output_type": "stream",
     "text": [
      "Loaded model weights\n"
     ]
    }
   ],
   "source": [
    "model = SRGNN(hidden_size=128, n_node=len(product2token), num_layers=2)\n",
    "model.load_state_dict(torch.load(weight_fp))\n",
    "model.to(device)\n",
    "model.eval()\n",
    "print(\"Loaded model weights\")"
   ]
  },
  {
   "cell_type": "code",
   "execution_count": 6,
   "metadata": {},
   "outputs": [],
   "source": [
    "test_ds = ECommerceDS(test_ds_fp, max_len=50, product2token=product2token, mask=\"last\")\n",
    "test_dl = DataLoader(test_ds, batch_size=256, shuffle=False)"
   ]
  },
  {
   "cell_type": "code",
   "execution_count": 14,
   "metadata": {},
   "outputs": [
    {
     "name": "stderr",
     "output_type": "stream",
     "text": [
      "  0%|          | 0/700 [00:00<?, ?it/s]/var/folders/1n/tpv7t5v15pd7j42g_46lx79w0000gn/T/ipykernel_59132/712113607.py:19: UserWarning: MPS: nonzero op is supported natively starting from macOS 14.0. Falling back on CPU. This may have performance implications. (Triggered internally at /Users/runner/work/_temp/anaconda/conda-bld/pytorch_1728928937407/work/aten/src/ATen/native/mps/operations/Indexing.mm:361.)\n",
      "  logits_masked_val = logits_flat_val[valid_indices_val]\n",
      "100%|██████████| 700/700 [02:59<00:00,  3.91it/s]\n"
     ]
    }
   ],
   "source": [
    "metric_handler = MetricHandler(\"results/srgnn_baseline\")\n",
    "\n",
    "all_logits = list()\n",
    "all_labels = list()\n",
    "all_times = list()\n",
    "\n",
    "with torch.no_grad():  # Disable gradient computation for evaluation\n",
    "    for test_batch in tqdm(test_dl):\n",
    "        x_test = test_batch[\"graph\"].to(device)\n",
    "        labels_test = test_batch[\"products\"].to(device)\n",
    "        cloze_mask_test = test_batch[\"cloze_mask\"].to(device)\n",
    "        alibi = test_batch[\"alibi\"].to(device)\n",
    "        attention_mask = test_batch[\"attention_mask\"].to(device)\n",
    "\n",
    "        logits_flat_test = model(x_test)\n",
    "        labels_flat_test = labels_test[:, -1]\n",
    "        cloze_mask_flat_test = cloze_mask_test[:, -1]\n",
    "\n",
    "        # Select only the masked positions\n",
    "        valid_indices_test = cloze_mask_flat_test == 1\n",
    "        logits_masked_test = logits_flat_test[valid_indices_test]\n",
    "        labels_masked_test = labels_flat_test[valid_indices_test]\n",
    "\n",
    "        all_logits.append(logits_masked_test)\n",
    "        all_labels.append(labels_masked_test)\n",
    "        time_vars = list()\n",
    "        time_avgs = list()\n",
    "        for i in range(labels_masked_test.shape[0]):\n",
    "            time_var = torch.var(-torch.diff(alibi[i][-1][attention_mask[i]==1]))\n",
    "            time_avg = torch.mean(-torch.diff(alibi[i][-1][attention_mask[i]==1]))\n",
    "            time_vars.append(time_var)\n",
    "            time_avgs.append(time_avg)\n",
    "        time_vars = torch.tensor(time_vars)\n",
    "        all_time_vars.append(time_vars)\n",
    "        all_time_avgs.append(time_avgs)"
   ]
  },
  {
   "attachments": {},
   "cell_type": "markdown",
   "metadata": {},
   "source": [
    "### Next steps\n",
    "- performance vs time variation\n",
    "- by category"
   ]
  },
  {
   "cell_type": "code",
   "execution_count": 15,
   "metadata": {},
   "outputs": [
    {
     "data": {
      "text/plain": [
       "{'graph': Data(x=[4, 1], edge_index=[2, 12], edge_weights=[12]),\n",
       " 'masked_products': tensor([0, 0, 0, 0, 0, 0, 0, 0, 0, 0, 0, 0, 0, 0, 0, 0, 0, 0, 0, 0, 0, 0, 0, 0,\n",
       "         0, 0, 0, 0, 0, 0, 0, 0, 0, 0, 0, 0, 0, 0, 0, 0, 0, 0, 2, 2, 3, 2, 4, 5,\n",
       "         5, 1]),\n",
       " 'products': tensor([0, 0, 0, 0, 0, 0, 0, 0, 0, 0, 0, 0, 0, 0, 0, 0, 0, 0, 0, 0, 0, 0, 0, 0,\n",
       "         0, 0, 0, 0, 0, 0, 0, 0, 0, 0, 0, 0, 0, 0, 0, 0, 0, 0, 2, 2, 3, 2, 4, 5,\n",
       "         5, 6]),\n",
       " 'times': ['2020-01-05 03:49:57 UTC',\n",
       "  '2020-01-21 06:20:35 UTC',\n",
       "  '2020-01-21 06:24:57 UTC',\n",
       "  '2020-01-23 04:00:00 UTC',\n",
       "  '2020-01-28 08:08:00 UTC',\n",
       "  '2020-01-31 09:46:24 UTC',\n",
       "  '2020-02-03 04:27:15 UTC',\n",
       "  '2020-02-05 09:12:57 UTC'],\n",
       " 'attention_mask': tensor([0, 0, 0, 0, 0, 0, 0, 0, 0, 0, 0, 0, 0, 0, 0, 0, 0, 0, 0, 0, 0, 0, 0, 0,\n",
       "         0, 0, 0, 0, 0, 0, 0, 0, 0, 0, 0, 0, 0, 0, 0, 0, 0, 0, 1, 1, 1, 1, 1, 1,\n",
       "         1, 1]),\n",
       " 'cloze_mask': tensor([0, 0, 0, 0, 0, 0, 0, 0, 0, 0, 0, 0, 0, 0, 0, 0, 0, 0, 0, 0, 0, 0, 0, 0,\n",
       "         0, 0, 0, 0, 0, 0, 0, 0, 0, 0, 0, 0, 0, 0, 0, 0, 0, 0, 0, 0, 0, 0, 0, 0,\n",
       "         0, 1])}"
      ]
     },
     "execution_count": 15,
     "metadata": {},
     "output_type": "execute_result"
    }
   ],
   "source": [
    "test_ds[0]"
   ]
  },
  {
   "cell_type": "code",
   "execution_count": null,
   "metadata": {},
   "outputs": [],
   "source": []
  }
 ],
 "metadata": {
  "kernelspec": {
   "display_name": "datamining",
   "language": "python",
   "name": "python3"
  },
  "language_info": {
   "codemirror_mode": {
    "name": "ipython",
    "version": 3
   },
   "file_extension": ".py",
   "mimetype": "text/x-python",
   "name": "python",
   "nbconvert_exporter": "python",
   "pygments_lexer": "ipython3",
   "version": "3.9.20"
  },
  "orig_nbformat": 4
 },
 "nbformat": 4,
 "nbformat_minor": 2
}
